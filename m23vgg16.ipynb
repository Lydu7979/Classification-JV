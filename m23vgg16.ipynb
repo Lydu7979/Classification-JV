{
  "nbformat": 4,
  "nbformat_minor": 0,
  "metadata": {
    "accelerator": "GPU",
    "colab": {
      "name": "m23vgg16.ipynb",
      "provenance": [],
      "collapsed_sections": []
    },
    "kernelspec": {
      "display_name": "Python 3",
      "language": "python",
      "name": "python3"
    },
    "language_info": {
      "codemirror_mode": {
        "name": "ipython",
        "version": 3
      },
      "file_extension": ".py",
      "mimetype": "text/x-python",
      "name": "python",
      "nbconvert_exporter": "python",
      "pygments_lexer": "ipython3",
      "version": "3.8.5"
    }
  },
  "cells": [
    {
      "cell_type": "code",
      "metadata": {
        "colab": {
          "base_uri": "https://localhost:8080/"
        },
        "id": "QhsE4UFjiIHf",
        "outputId": "1c5e70ee-2498-48ad-ff3e-9216ab984da0"
      },
      "source": [
        "from google.colab import drive\n",
        "drive.mount('/content/drive')"
      ],
      "execution_count": 1,
      "outputs": [
        {
          "output_type": "stream",
          "text": [
            "Mounted at /content/drive\n"
          ],
          "name": "stdout"
        }
      ]
    },
    {
      "cell_type": "code",
      "metadata": {
        "id": "7jum6fIVjxL2"
      },
      "source": [
        "from keras.layers import Input, Lambda, Dense, Flatten\n",
        "from keras.models import Model\n",
        "from keras.applications.vgg16 import VGG16\n",
        "from keras.applications.vgg16 import preprocess_input\n",
        "from keras.preprocessing import image\n",
        "from keras.preprocessing.image import ImageDataGenerator\n",
        "import numpy as np\n",
        "from sklearn.metrics import confusion_matrix\n",
        "import matplotlib.pyplot as plt\n",
        "%matplotlib inline\n",
        "from glob import glob"
      ],
      "execution_count": 2,
      "outputs": []
    },
    {
      "cell_type": "code",
      "metadata": {
        "id": "kfzn0BTSj7LX",
        "colab": {
          "base_uri": "https://localhost:8080/"
        },
        "outputId": "0a6b1a7f-3057-4e54-c09c-e0e70ff0cd6d"
      },
      "source": [
        "IMAGE_SIZE = [150, 150] \n",
        "\n",
        "epochs = 10\n",
        "batch_size = 100\n",
        "\n",
        "train_path = '/content/drive/MyDrive/JV/train'\n",
        "test_path = '/content/drive/MyDrive/JV/test'\n",
        "\n",
        "\n",
        "image_files_train = glob(train_path + '/*/*.jp*g')\n",
        "image_files_test = glob(test_path + '/*/*.jp*g')\n",
        "\n",
        "\n",
        "folders = glob(train_path + '/*')\n",
        "\n",
        "print(len(image_files_train))\n",
        "print(len(image_files_test))"
      ],
      "execution_count": 3,
      "outputs": [
        {
          "output_type": "stream",
          "text": [
            "463\n",
            "203\n"
          ],
          "name": "stdout"
        }
      ]
    },
    {
      "cell_type": "code",
      "metadata": {
        "colab": {
          "base_uri": "https://localhost:8080/"
        },
        "id": "K-v7ebVOoi0h",
        "outputId": "323b44b1-44a2-45b8-bd44-ee2e004787b3"
      },
      "source": [
        "vgg=VGG16(include_top=False,weights='imagenet',input_shape=(150,150,3))"
      ],
      "execution_count": 4,
      "outputs": [
        {
          "output_type": "stream",
          "text": [
            "Downloading data from https://storage.googleapis.com/tensorflow/keras-applications/vgg16/vgg16_weights_tf_dim_ordering_tf_kernels_notop.h5\n",
            "58892288/58889256 [==============================] - 4s 0us/step\n"
          ],
          "name": "stdout"
        }
      ]
    },
    {
      "cell_type": "code",
      "metadata": {
        "colab": {
          "base_uri": "https://localhost:8080/"
        },
        "id": "GDe0DvBKoi2q",
        "outputId": "2fca95dc-0c65-434e-9008-b56bfdd6f740"
      },
      "source": [
        "for layer in vgg.layers:\n",
        "    layer.trainable =False\n",
        "x=Flatten()(vgg.output)\n",
        "prediction=Dense(len(folders),activation='softmax')(x)\n",
        "model=Model(inputs=vgg.input,outputs=prediction)\n",
        "model.summary()"
      ],
      "execution_count": 5,
      "outputs": [
        {
          "output_type": "stream",
          "text": [
            "Model: \"model\"\n",
            "_________________________________________________________________\n",
            "Layer (type)                 Output Shape              Param #   \n",
            "=================================================================\n",
            "input_1 (InputLayer)         [(None, 150, 150, 3)]     0         \n",
            "_________________________________________________________________\n",
            "block1_conv1 (Conv2D)        (None, 150, 150, 64)      1792      \n",
            "_________________________________________________________________\n",
            "block1_conv2 (Conv2D)        (None, 150, 150, 64)      36928     \n",
            "_________________________________________________________________\n",
            "block1_pool (MaxPooling2D)   (None, 75, 75, 64)        0         \n",
            "_________________________________________________________________\n",
            "block2_conv1 (Conv2D)        (None, 75, 75, 128)       73856     \n",
            "_________________________________________________________________\n",
            "block2_conv2 (Conv2D)        (None, 75, 75, 128)       147584    \n",
            "_________________________________________________________________\n",
            "block2_pool (MaxPooling2D)   (None, 37, 37, 128)       0         \n",
            "_________________________________________________________________\n",
            "block3_conv1 (Conv2D)        (None, 37, 37, 256)       295168    \n",
            "_________________________________________________________________\n",
            "block3_conv2 (Conv2D)        (None, 37, 37, 256)       590080    \n",
            "_________________________________________________________________\n",
            "block3_conv3 (Conv2D)        (None, 37, 37, 256)       590080    \n",
            "_________________________________________________________________\n",
            "block3_pool (MaxPooling2D)   (None, 18, 18, 256)       0         \n",
            "_________________________________________________________________\n",
            "block4_conv1 (Conv2D)        (None, 18, 18, 512)       1180160   \n",
            "_________________________________________________________________\n",
            "block4_conv2 (Conv2D)        (None, 18, 18, 512)       2359808   \n",
            "_________________________________________________________________\n",
            "block4_conv3 (Conv2D)        (None, 18, 18, 512)       2359808   \n",
            "_________________________________________________________________\n",
            "block4_pool (MaxPooling2D)   (None, 9, 9, 512)         0         \n",
            "_________________________________________________________________\n",
            "block5_conv1 (Conv2D)        (None, 9, 9, 512)         2359808   \n",
            "_________________________________________________________________\n",
            "block5_conv2 (Conv2D)        (None, 9, 9, 512)         2359808   \n",
            "_________________________________________________________________\n",
            "block5_conv3 (Conv2D)        (None, 9, 9, 512)         2359808   \n",
            "_________________________________________________________________\n",
            "block5_pool (MaxPooling2D)   (None, 4, 4, 512)         0         \n",
            "_________________________________________________________________\n",
            "flatten (Flatten)            (None, 8192)              0         \n",
            "_________________________________________________________________\n",
            "dense (Dense)                (None, 5)                 40965     \n",
            "=================================================================\n",
            "Total params: 14,755,653\n",
            "Trainable params: 40,965\n",
            "Non-trainable params: 14,714,688\n",
            "_________________________________________________________________\n"
          ],
          "name": "stdout"
        }
      ]
    },
    {
      "cell_type": "code",
      "metadata": {
        "id": "moN6GQSWo7ea"
      },
      "source": [
        "import keras\n",
        "model.compile(optimizer=keras.optimizers.Adam(lr=1e-3), loss='categorical_crossentropy',metrics='accuracy')"
      ],
      "execution_count": 6,
      "outputs": []
    },
    {
      "cell_type": "code",
      "metadata": {
        "id": "3zHbP4jjo7qj"
      },
      "source": [
        "gen=ImageDataGenerator(rotation_range=20,width_shift_range=0.1,height_shift_range=0.1,shear_range=0.1,zoom_range=0.2,horizontal_flip=True,vertical_flip=True,preprocessing_function=preprocess_input)"
      ],
      "execution_count": 7,
      "outputs": []
    },
    {
      "cell_type": "code",
      "metadata": {
        "colab": {
          "base_uri": "https://localhost:8080/"
        },
        "id": "mCiM-klwo7tW",
        "outputId": "8f5b348e-0871-4605-c767-1314162798e0"
      },
      "source": [
        "test_gen=gen.flow_from_directory(test_path,target_size=IMAGE_SIZE)"
      ],
      "execution_count": 8,
      "outputs": [
        {
          "output_type": "stream",
          "text": [
            "Found 972 images belonging to 5 classes.\n"
          ],
          "name": "stdout"
        }
      ]
    },
    {
      "cell_type": "code",
      "metadata": {
        "colab": {
          "base_uri": "https://localhost:8080/"
        },
        "id": "o9vsmkG1o7v8",
        "outputId": "6c722b78-3f8d-4d51-d0ad-305777a76644"
      },
      "source": [
        "labels = [None] * len(test_gen.class_indices)\n",
        "print(labels)\n",
        "for k, v in test_gen.class_indices.items():\n",
        "  labels[v] = k\n",
        "print(labels[0])"
      ],
      "execution_count": 9,
      "outputs": [
        {
          "output_type": "stream",
          "text": [
            "[None, None, None, None, None]\n",
            "Daisy\n"
          ],
          "name": "stdout"
        }
      ]
    },
    {
      "cell_type": "code",
      "metadata": {
        "colab": {
          "base_uri": "https://localhost:8080/",
          "height": 334
        },
        "id": "YELs8-mvo70u",
        "outputId": "1e5235bf-9c68-497b-9d29-933ad7e939d0"
      },
      "source": [
        "for x, y in test_gen:\n",
        "  print(\"min:\", x[0].min(), \"max:\", x[0].max())\n",
        "  print(y[0])\n",
        "  plt.title(labels[np.argmax(y[0])])\n",
        "  plt.imshow(x[0])\n",
        "  plt.show()\n",
        "  break"
      ],
      "execution_count": 10,
      "outputs": [
        {
          "output_type": "stream",
          "text": [
            "Clipping input data to the valid range for imshow with RGB data ([0..1] for floats or [0..255] for integers).\n"
          ],
          "name": "stderr"
        },
        {
          "output_type": "stream",
          "text": [
            "min: -114.69812 max: 141.17847\n",
            "[0. 1. 0. 0. 0.]\n"
          ],
          "name": "stdout"
        },
        {
          "output_type": "display_data",
          "data": {
            "image/png": "[encoded data removed]",
            "text/plain": [
              "<Figure size 432x288 with 1 Axes>"
            ]
          },
          "metadata": {
            "tags": [],
            "needs_background": "light"
          }
        }
      ]
    },
    {
      "cell_type": "code",
      "metadata": {
        "colab": {
          "base_uri": "https://localhost:8080/"
        },
        "id": "k5dfSc0Ao78A",
        "outputId": "21090bcd-fde9-4579-8bc0-7aa438979052"
      },
      "source": [
        "train_generator = gen.flow_from_directory(\n",
        "  train_path,\n",
        "  target_size=IMAGE_SIZE,\n",
        "  shuffle=True,\n",
        "  batch_size=batch_size,\n",
        ")\n",
        "valid_generator = gen.flow_from_directory(\n",
        "  test_path,\n",
        "  target_size=IMAGE_SIZE,\n",
        "  shuffle=True,\n",
        "  batch_size=batch_size,\n",
        ")"
      ],
      "execution_count": 11,
      "outputs": [
        {
          "output_type": "stream",
          "text": [
            "Found 2264 images belonging to 5 classes.\n",
            "Found 972 images belonging to 5 classes.\n"
          ],
          "name": "stdout"
        }
      ]
    },
    {
      "cell_type": "code",
      "metadata": {
        "colab": {
          "base_uri": "https://localhost:8080/"
        },
        "id": "UxFy3VqCpZBC",
        "outputId": "13020477-fb44-4bff-fefc-aa4f12af33b2"
      },
      "source": [
        "r = model.fit_generator(\n",
        "  train_generator,\n",
        "  validation_data=valid_generator,\n",
        "  epochs=epochs,\n",
        "  steps_per_epoch=len(image_files_train) // batch_size,\n",
        "  validation_steps=len(image_files_test) // batch_size,\n",
        ")"
      ],
      "execution_count": 12,
      "outputs": [
        {
          "output_type": "stream",
          "text": [
            "/usr/local/lib/python3.7/dist-packages/tensorflow/python/keras/engine/training.py:1844: UserWarning: `Model.fit_generator` is deprecated and will be removed in a future version. Please use `Model.fit`, which supports generators.\n",
            "  warnings.warn('`Model.fit_generator` is deprecated and '\n"
          ],
          "name": "stderr"
        },
        {
          "output_type": "stream",
          "text": [
            "Epoch 1/10\n",
            "2/4 [==============>...............] - ETA: 48s - loss: 15.9416 - accuracy: 0.2400 "
          ],
          "name": "stdout"
        },
        {
          "output_type": "stream",
          "text": [
            "/usr/local/lib/python3.7/dist-packages/PIL/Image.py:932: UserWarning: Palette images with Transparency expressed in bytes should be converted to RGBA images\n",
            "  \"Palette images with Transparency expressed in bytes should be \"\n"
          ],
          "name": "stderr"
        },
        {
          "output_type": "stream",
          "text": [
            "4/4 [==============================] - 426s 106s/step - loss: 14.6781 - accuracy: 0.3037 - val_loss: 10.2631 - val_accuracy: 0.4150\n",
            "Epoch 2/10\n",
            "4/4 [==============================] - 256s 71s/step - loss: 10.3666 - accuracy: 0.4320 - val_loss: 8.9641 - val_accuracy: 0.5000\n",
            "Epoch 3/10\n",
            "4/4 [==============================] - 214s 61s/step - loss: 6.6906 - accuracy: 0.6180 - val_loss: 5.4383 - val_accuracy: 0.6600\n",
            "Epoch 4/10\n",
            "4/4 [==============================] - 171s 49s/step - loss: 3.9267 - accuracy: 0.7153 - val_loss: 5.1631 - val_accuracy: 0.7050\n",
            "Epoch 5/10\n",
            "4/4 [==============================] - 138s 39s/step - loss: 3.8184 - accuracy: 0.7677 - val_loss: 3.8975 - val_accuracy: 0.7350\n",
            "Epoch 6/10\n",
            "4/4 [==============================] - 97s 27s/step - loss: 3.8197 - accuracy: 0.7273 - val_loss: 3.7069 - val_accuracy: 0.7350\n",
            "Epoch 7/10\n",
            "4/4 [==============================] - 87s 27s/step - loss: 2.6051 - accuracy: 0.8276 - val_loss: 3.8002 - val_accuracy: 0.7850\n",
            "Epoch 8/10\n",
            "4/4 [==============================] - 70s 21s/step - loss: 2.7202 - accuracy: 0.8061 - val_loss: 3.9744 - val_accuracy: 0.7350\n",
            "Epoch 9/10\n",
            "4/4 [==============================] - 61s 18s/step - loss: 3.0745 - accuracy: 0.8057 - val_loss: 4.4818 - val_accuracy: 0.7400\n",
            "Epoch 10/10\n",
            "4/4 [==============================] - 50s 14s/step - loss: 2.5529 - accuracy: 0.8290 - val_loss: 2.9877 - val_accuracy: 0.7700\n"
          ],
          "name": "stdout"
        }
      ]
    },
    {
      "cell_type": "code",
      "metadata": {
        "colab": {
          "base_uri": "https://localhost:8080/"
        },
        "id": "6UxLEJjeoi49",
        "outputId": "70e3d33c-0c87-4b8a-cfd5-632ddfb22874"
      },
      "source": [
        "STEP_SIZE_TEST=valid_generator.n//valid_generator.batch_size\n",
        "valid_generator.reset()\n",
        "pred=model.predict_generator(valid_generator,\n",
        "steps=STEP_SIZE_TEST,\n",
        "verbose=1)\n",
        "predicted_class_indices_test=np.argmax(pred,axis=1)"
      ],
      "execution_count": 13,
      "outputs": [
        {
          "output_type": "stream",
          "text": [
            "/usr/local/lib/python3.7/dist-packages/tensorflow/python/keras/engine/training.py:1905: UserWarning: `Model.predict_generator` is deprecated and will be removed in a future version. Please use `Model.predict`, which supports generators.\n",
            "  warnings.warn('`Model.predict_generator` is deprecated and '\n"
          ],
          "name": "stderr"
        },
        {
          "output_type": "stream",
          "text": [
            "2/9 [=====>........................] - ETA: 28s"
          ],
          "name": "stdout"
        },
        {
          "output_type": "stream",
          "text": [
            "/usr/local/lib/python3.7/dist-packages/PIL/Image.py:932: UserWarning: Palette images with Transparency expressed in bytes should be converted to RGBA images\n",
            "  \"Palette images with Transparency expressed in bytes should be \"\n"
          ],
          "name": "stderr"
        },
        {
          "output_type": "stream",
          "text": [
            "9/9 [==============================] - 35s 4s/step\n"
          ],
          "name": "stdout"
        }
      ]
    },
    {
      "cell_type": "code",
      "metadata": {
        "colab": {
          "base_uri": "https://localhost:8080/"
        },
        "id": "aKe8DUEwoi7V",
        "outputId": "de43a009-3fa1-4a8b-82b1-aaa8c48b461d"
      },
      "source": [
        "STEP_SIZE_Train=train_generator.n//train_generator.batch_size\n",
        "train_generator.reset()\n",
        "pred2=model.predict_generator(train_generator,\n",
        "steps=STEP_SIZE_Train,\n",
        "verbose=1)\n",
        "predicted_class_indices_train=np.argmax(pred2,axis=1)"
      ],
      "execution_count": 14,
      "outputs": [
        {
          "output_type": "stream",
          "text": [
            "/usr/local/lib/python3.7/dist-packages/tensorflow/python/keras/engine/training.py:1905: UserWarning: `Model.predict_generator` is deprecated and will be removed in a future version. Please use `Model.predict`, which supports generators.\n",
            "  warnings.warn('`Model.predict_generator` is deprecated and '\n"
          ],
          "name": "stderr"
        },
        {
          "output_type": "stream",
          "text": [
            " 2/22 [=>............................] - ETA: 1:36"
          ],
          "name": "stdout"
        },
        {
          "output_type": "stream",
          "text": [
            "/usr/local/lib/python3.7/dist-packages/PIL/Image.py:932: UserWarning: Palette images with Transparency expressed in bytes should be converted to RGBA images\n",
            "  \"Palette images with Transparency expressed in bytes should be \"\n"
          ],
          "name": "stderr"
        },
        {
          "output_type": "stream",
          "text": [
            "22/22 [==============================] - 143s 7s/step\n"
          ],
          "name": "stdout"
        }
      ]
    },
    {
      "cell_type": "code",
      "metadata": {
        "id": "oO2yV46ioi96"
      },
      "source": [
        "def get_confusion_matrix(data_path, N):\n",
        "  # we need to see the data in the same order\n",
        "  # for both predictions and targets\n",
        "  print(\"Generating confusion matrix\", N)\n",
        "  predictions = []\n",
        "  targets = []\n",
        "  i = 0\n",
        "  for x, y in gen.flow_from_directory(data_path, target_size=IMAGE_SIZE, shuffle=False, batch_size=batch_size * 2):\n",
        "    i += 1\n",
        "    if i % 50 == 0:\n",
        "      print(i)\n",
        "    p = model.predict(x)\n",
        "    p = np.argmax(p, axis=1)\n",
        "    y = np.argmax(y, axis=1)\n",
        "    predictions = np.concatenate((predictions, p))\n",
        "    targets = np.concatenate((targets, y))\n",
        "    if len(targets) >= N:\n",
        "      break\n",
        "\n",
        "  cm = confusion_matrix(targets, predictions)\n",
        "  return cm"
      ],
      "execution_count": 15,
      "outputs": []
    },
    {
      "cell_type": "code",
      "metadata": {
        "colab": {
          "base_uri": "https://localhost:8080/"
        },
        "id": "bkzAuexmp7qy",
        "outputId": "e089dffb-703b-4cbc-a83b-80c9717b23c6"
      },
      "source": [
        "print(train_generator.class_indices) # pour le train\n",
        "print(valid_generator.class_indices) # pour le test"
      ],
      "execution_count": 16,
      "outputs": [
        {
          "output_type": "stream",
          "text": [
            "{'Daisy': 0, 'Harmonie': 1, 'Tiny Kong': 2, 'Waluigi': 3, 'Yoshi': 4}\n",
            "{'Daisy': 0, 'Harmonie': 1, 'Tiny Kong': 2, 'Waluigi': 3, 'Yoshi': 4}\n"
          ],
          "name": "stdout"
        }
      ]
    },
    {
      "cell_type": "code",
      "metadata": {
        "colab": {
          "base_uri": "https://localhost:8080/",
          "height": 670
        },
        "id": "n-qIufrEp7tW",
        "outputId": "bd560f44-581c-4ecc-d3fb-ce30c804e6fb"
      },
      "source": [
        "import seaborn as sns\n",
        "import numpy as np\n",
        "train_cm = get_confusion_matrix(train_path, len(image_files_train))\n",
        "#print(train_cm)\n",
        "print('Matrice de confusion pour le train')\n",
        "plt.figure(figsize = (20,10))\n",
        "sns.set(font_scale=1.4)\n",
        "sns.heatmap(train_cm, annot=True, annot_kws={\"size\": 10}, cmap='Greens')\n"
      ],
      "execution_count": 17,
      "outputs": [
        {
          "output_type": "stream",
          "text": [
            "Generating confusion matrix 463\n",
            "Found 2264 images belonging to 5 classes.\n",
            "Matrice de confusion pour le train\n"
          ],
          "name": "stdout"
        },
        {
          "output_type": "execute_result",
          "data": {
            "text/plain": [
              "<matplotlib.axes._subplots.AxesSubplot at 0x7f03e20127d0>"
            ]
          },
          "metadata": {
            "tags": []
          },
          "execution_count": 17
        },
        {
          "output_type": "display_data",
          "data": {
            "image/png": "[encoded data removed]",
            "text/plain": [
              "<Figure size 1440x720 with 2 Axes>"
            ]
          },
          "metadata": {
            "tags": [],
            "needs_background": "light"
          }
        }
      ]
    },
    {
      "cell_type": "code",
      "metadata": {
        "colab": {
          "base_uri": "https://localhost:8080/",
          "height": 542
        },
        "id": "OUqZ1qP3p7vf",
        "outputId": "c6e46077-ef93-406e-ed04-b965a3850bae"
      },
      "source": [
        "test_cm = get_confusion_matrix(test_path, len(image_files_test))\n",
        "#print(test_cm)\n",
        "print('Matrice de confusion pour le test')\n",
        "plt.figure(figsize = (20,7))\n",
        "sns.set(font_scale=1.4)\n",
        "sns.heatmap(test_cm, annot=True, annot_kws={\"size\": 10}, cmap='plasma')"
      ],
      "execution_count": 18,
      "outputs": [
        {
          "output_type": "stream",
          "text": [
            "Generating confusion matrix 203\n",
            "Found 972 images belonging to 5 classes.\n"
          ],
          "name": "stdout"
        },
        {
          "output_type": "stream",
          "text": [
            "/usr/local/lib/python3.7/dist-packages/PIL/Image.py:932: UserWarning: Palette images with Transparency expressed in bytes should be converted to RGBA images\n",
            "  \"Palette images with Transparency expressed in bytes should be \"\n"
          ],
          "name": "stderr"
        },
        {
          "output_type": "stream",
          "text": [
            "Matrice de confusion pour le test\n"
          ],
          "name": "stdout"
        },
        {
          "output_type": "execute_result",
          "data": {
            "text/plain": [
              "<matplotlib.axes._subplots.AxesSubplot at 0x7f03e20185d0>"
            ]
          },
          "metadata": {
            "tags": []
          },
          "execution_count": 18
        },
        {
          "output_type": "display_data",
          "data": {
            "image/png": "[encoded data removed]",
            "text/plain": [
              "<Figure size 1440x504 with 2 Axes>"
            ]
          },
          "metadata": {
            "tags": []
          }
        }
      ]
    },
    {
      "cell_type": "code",
      "metadata": {
        "colab": {
          "base_uri": "https://localhost:8080/",
          "height": 613
        },
        "id": "z5hnJcU_p72U",
        "outputId": "20293d46-9310-4bc4-98f9-3be5476cfe80"
      },
      "source": [
        "#print(r.history)\n",
        "plt.plot(r.history['loss'], label='train loss')\n",
        "plt.plot(r.history['val_loss'], label='val loss')\n",
        "plt.title('Training and validation loss')\n",
        "plt.xlabel('epochs')\n",
        "plt.ylabel('Loss')\n",
        "plt.legend()\n",
        "plt.show()\n",
        "\n",
        "# accuracies\n",
        "plt.plot(r.history['accuracy'], label='train accuracy')\n",
        "plt.plot(r.history['val_accuracy'], label='val accuracy')\n",
        "plt.title('Training and validation accuracy')\n",
        "plt.xlabel('epochs')\n",
        "plt.ylabel('Accuracy')\n",
        "plt.legend()\n",
        "plt.show()"
      ],
      "execution_count": 19,
      "outputs": [
        {
          "output_type": "display_data",
          "data": {
            "image/png": "[encoded data removed]",
            "text/plain": [
              "<Figure size 432x288 with 1 Axes>"
            ]
          },
          "metadata": {
            "tags": []
          }
        },
        {
          "output_type": "display_data",
          "data": {
            "image/png": "[encoded data removed]",
            "text/plain": [
              "<Figure size 432x288 with 1 Axes>"
            ]
          },
          "metadata": {
            "tags": []
          }
        }
      ]
    },
    {
      "cell_type": "code",
      "metadata": {
        "colab": {
          "base_uri": "https://localhost:8080/"
        },
        "id": "SRf73hxop75Y",
        "outputId": "26ae0e20-e635-4d19-ad9b-081f89a9512e"
      },
      "source": [
        "score_train = model.evaluate_generator(train_generator, len(image_files_train) // batch_size)\n",
        "print(f'Train results - Loss: {score_train[0]} - Accuracy: {score_train[1]}')\n",
        "score_test = model.evaluate_generator(valid_generator, len(image_files_test) // batch_size)\n",
        "print(f'Test results - Loss: {score_test[0]} - Accuracy: {score_test[1]}')"
      ],
      "execution_count": 20,
      "outputs": [
        {
          "output_type": "stream",
          "text": [
            "/usr/local/lib/python3.7/dist-packages/tensorflow/python/keras/engine/training.py:1877: UserWarning: `Model.evaluate_generator` is deprecated and will be removed in a future version. Please use `Model.evaluate`, which supports generators.\n",
            "  warnings.warn('`Model.evaluate_generator` is deprecated and '\n",
            "/usr/local/lib/python3.7/dist-packages/PIL/Image.py:932: UserWarning: Palette images with Transparency expressed in bytes should be converted to RGBA images\n",
            "  \"Palette images with Transparency expressed in bytes should be \"\n"
          ],
          "name": "stderr"
        },
        {
          "output_type": "stream",
          "text": [
            "Train results - Loss: 1.8681429624557495 - Accuracy: 0.8650000095367432\n",
            "Test results - Loss: 3.2585289478302 - Accuracy: 0.8050000071525574\n"
          ],
          "name": "stdout"
        }
      ]
    }
  ]
}