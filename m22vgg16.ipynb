{
  "nbformat": 4,
  "nbformat_minor": 0,
  "metadata": {
    "accelerator": "GPU",
    "colab": {
      "name": "m22vgg16.ipynb",
      "provenance": [],
      "collapsed_sections": []
    },
    "kernelspec": {
      "display_name": "Python 3",
      "language": "python",
      "name": "python3"
    },
    "language_info": {
      "codemirror_mode": {
        "name": "ipython",
        "version": 3
      },
      "file_extension": ".py",
      "mimetype": "text/x-python",
      "name": "python",
      "nbconvert_exporter": "python",
      "pygments_lexer": "ipython3",
      "version": "3.8.5"
    }
  },
  "cells": [
    {
      "cell_type": "code",
      "metadata": {
        "colab": {
          "base_uri": "https://localhost:8080/"
        },
        "id": "QhsE4UFjiIHf",
        "outputId": "cbaaba1e-d1d1-4e4f-d998-d7d30fdc9303"
      },
      "source": [
        "from google.colab import drive\n",
        "drive.mount('/content/drive')"
      ],
      "execution_count": 1,
      "outputs": [
        {
          "output_type": "stream",
          "text": [
            "Mounted at /content/drive\n"
          ],
          "name": "stdout"
        }
      ]
    },
    {
      "cell_type": "code",
      "metadata": {
        "id": "7jum6fIVjxL2"
      },
      "source": [
        "from keras.layers import Input, Lambda, Dense, Flatten\n",
        "from keras.models import Model\n",
        "from keras.applications.vgg16 import VGG16\n",
        "from keras.applications.vgg16 import preprocess_input\n",
        "from keras.preprocessing import image\n",
        "from keras.preprocessing.image import ImageDataGenerator\n",
        "import numpy as np\n",
        "from sklearn.metrics import confusion_matrix\n",
        "import matplotlib.pyplot as plt\n",
        "%matplotlib inline\n",
        "from glob import glob"
      ],
      "execution_count": 2,
      "outputs": []
    },
    {
      "cell_type": "code",
      "metadata": {
        "id": "kfzn0BTSj7LX",
        "colab": {
          "base_uri": "https://localhost:8080/"
        },
        "outputId": "04149cec-9580-4541-d83c-bbca5fcee20e"
      },
      "source": [
        "IMAGE_SIZE = [150, 150] \n",
        "\n",
        "epochs = 10\n",
        "batch_size = 100\n",
        "\n",
        "train_path = '/content/drive/MyDrive/JV/train'\n",
        "test_path = '/content/drive/MyDrive/JV/test'\n",
        "\n",
        "\n",
        "image_files_train = glob(train_path + '/*/*.jp*g')\n",
        "image_files_test = glob(test_path + '/*/*.jp*g')\n",
        "\n",
        "\n",
        "folders = glob(train_path + '/*')\n",
        "\n",
        "print(len(image_files_train))\n",
        "print(len(image_files_test))"
      ],
      "execution_count": 3,
      "outputs": [
        {
          "output_type": "stream",
          "text": [
            "461\n",
            "205\n"
          ],
          "name": "stdout"
        }
      ]
    },
    {
      "cell_type": "code",
      "metadata": {
        "colab": {
          "base_uri": "https://localhost:8080/"
        },
        "id": "K-v7ebVOoi0h",
        "outputId": "c87017c2-8974-48bd-dd74-f05a9cca93e3"
      },
      "source": [
        "vgg=VGG16(include_top=False,weights='imagenet',input_shape=(150,150,3))"
      ],
      "execution_count": 4,
      "outputs": [
        {
          "output_type": "stream",
          "text": [
            "Downloading data from https://storage.googleapis.com/tensorflow/keras-applications/vgg16/vgg16_weights_tf_dim_ordering_tf_kernels_notop.h5\n",
            "58892288/58889256 [==============================] - 2s 0us/step\n"
          ],
          "name": "stdout"
        }
      ]
    },
    {
      "cell_type": "code",
      "metadata": {
        "colab": {
          "base_uri": "https://localhost:8080/"
        },
        "id": "GDe0DvBKoi2q",
        "outputId": "15a31f07-79ee-4f7e-d179-31fe0cd1b0b1"
      },
      "source": [
        "for layer in vgg.layers:\n",
        "    layer.trainable =False\n",
        "x=Flatten()(vgg.output)\n",
        "prediction=Dense(len(folders),activation='softmax')(x)\n",
        "model=Model(inputs=vgg.input,outputs=prediction)\n",
        "model.summary()"
      ],
      "execution_count": 5,
      "outputs": [
        {
          "output_type": "stream",
          "text": [
            "Model: \"model\"\n",
            "_________________________________________________________________\n",
            "Layer (type)                 Output Shape              Param #   \n",
            "=================================================================\n",
            "input_1 (InputLayer)         [(None, 150, 150, 3)]     0         \n",
            "_________________________________________________________________\n",
            "block1_conv1 (Conv2D)        (None, 150, 150, 64)      1792      \n",
            "_________________________________________________________________\n",
            "block1_conv2 (Conv2D)        (None, 150, 150, 64)      36928     \n",
            "_________________________________________________________________\n",
            "block1_pool (MaxPooling2D)   (None, 75, 75, 64)        0         \n",
            "_________________________________________________________________\n",
            "block2_conv1 (Conv2D)        (None, 75, 75, 128)       73856     \n",
            "_________________________________________________________________\n",
            "block2_conv2 (Conv2D)        (None, 75, 75, 128)       147584    \n",
            "_________________________________________________________________\n",
            "block2_pool (MaxPooling2D)   (None, 37, 37, 128)       0         \n",
            "_________________________________________________________________\n",
            "block3_conv1 (Conv2D)        (None, 37, 37, 256)       295168    \n",
            "_________________________________________________________________\n",
            "block3_conv2 (Conv2D)        (None, 37, 37, 256)       590080    \n",
            "_________________________________________________________________\n",
            "block3_conv3 (Conv2D)        (None, 37, 37, 256)       590080    \n",
            "_________________________________________________________________\n",
            "block3_pool (MaxPooling2D)   (None, 18, 18, 256)       0         \n",
            "_________________________________________________________________\n",
            "block4_conv1 (Conv2D)        (None, 18, 18, 512)       1180160   \n",
            "_________________________________________________________________\n",
            "block4_conv2 (Conv2D)        (None, 18, 18, 512)       2359808   \n",
            "_________________________________________________________________\n",
            "block4_conv3 (Conv2D)        (None, 18, 18, 512)       2359808   \n",
            "_________________________________________________________________\n",
            "block4_pool (MaxPooling2D)   (None, 9, 9, 512)         0         \n",
            "_________________________________________________________________\n",
            "block5_conv1 (Conv2D)        (None, 9, 9, 512)         2359808   \n",
            "_________________________________________________________________\n",
            "block5_conv2 (Conv2D)        (None, 9, 9, 512)         2359808   \n",
            "_________________________________________________________________\n",
            "block5_conv3 (Conv2D)        (None, 9, 9, 512)         2359808   \n",
            "_________________________________________________________________\n",
            "block5_pool (MaxPooling2D)   (None, 4, 4, 512)         0         \n",
            "_________________________________________________________________\n",
            "flatten (Flatten)            (None, 8192)              0         \n",
            "_________________________________________________________________\n",
            "dense (Dense)                (None, 5)                 40965     \n",
            "=================================================================\n",
            "Total params: 14,755,653\n",
            "Trainable params: 40,965\n",
            "Non-trainable params: 14,714,688\n",
            "_________________________________________________________________\n"
          ],
          "name": "stdout"
        }
      ]
    },
    {
      "cell_type": "code",
      "metadata": {
        "id": "moN6GQSWo7ea"
      },
      "source": [
        "import keras\n",
        "model.compile(optimizer=keras.optimizers.Adam(lr=1e-3), loss='categorical_crossentropy',metrics='accuracy')"
      ],
      "execution_count": 6,
      "outputs": []
    },
    {
      "cell_type": "code",
      "metadata": {
        "id": "3zHbP4jjo7qj"
      },
      "source": [
        "gen=ImageDataGenerator(rotation_range=20,width_shift_range=0.1,height_shift_range=0.1,shear_range=0.1,zoom_range=0.2,horizontal_flip=True,vertical_flip=True,preprocessing_function=preprocess_input)"
      ],
      "execution_count": 7,
      "outputs": []
    },
    {
      "cell_type": "code",
      "metadata": {
        "colab": {
          "base_uri": "https://localhost:8080/"
        },
        "id": "mCiM-klwo7tW",
        "outputId": "f271a86f-47ba-44e6-af1d-ce7f35f84f9c"
      },
      "source": [
        "test_gen=gen.flow_from_directory(test_path,target_size=IMAGE_SIZE)"
      ],
      "execution_count": 8,
      "outputs": [
        {
          "output_type": "stream",
          "text": [
            "Found 923 images belonging to 5 classes.\n"
          ],
          "name": "stdout"
        }
      ]
    },
    {
      "cell_type": "code",
      "metadata": {
        "colab": {
          "base_uri": "https://localhost:8080/"
        },
        "id": "o9vsmkG1o7v8",
        "outputId": "4afce683-7d53-4eb1-ead0-e9ca5149d86a"
      },
      "source": [
        "labels = [None] * len(test_gen.class_indices)\n",
        "print(labels)\n",
        "for k, v in test_gen.class_indices.items():\n",
        "  labels[v] = k\n",
        "print(labels[0])"
      ],
      "execution_count": 9,
      "outputs": [
        {
          "output_type": "stream",
          "text": [
            "[None, None, None, None, None]\n",
            "Daisy\n"
          ],
          "name": "stdout"
        }
      ]
    },
    {
      "cell_type": "code",
      "metadata": {
        "colab": {
          "base_uri": "https://localhost:8080/",
          "height": 334
        },
        "id": "YELs8-mvo70u",
        "outputId": "93f17e2a-f6c8-4770-8bd8-dd7d424dc93d"
      },
      "source": [
        "for x, y in test_gen:\n",
        "  print(\"min:\", x[0].min(), \"max:\", x[0].max())\n",
        "  print(y[0])\n",
        "  plt.title(labels[np.argmax(y[0])])\n",
        "  plt.imshow(x[0])\n",
        "  plt.show()\n",
        "  break"
      ],
      "execution_count": 10,
      "outputs": [
        {
          "output_type": "stream",
          "text": [
            "Clipping input data to the valid range for imshow with RGB data ([0..1] for floats or [0..255] for integers).\n"
          ],
          "name": "stderr"
        },
        {
          "output_type": "stream",
          "text": [
            "min: -123.68 max: 150.86237\n",
            "[1. 0. 0. 0. 0.]\n"
          ],
          "name": "stdout"
        },
        {
          "output_type": "display_data",
          "data": {
            "image/png": "[encoded data removed]",
            "text/plain": [
              "<Figure size 432x288 with 1 Axes>"
            ]
          },
          "metadata": {
            "tags": [],
            "needs_background": "light"
          }
        }
      ]
    },
    {
      "cell_type": "code",
      "metadata": {
        "colab": {
          "base_uri": "https://localhost:8080/"
        },
        "id": "k5dfSc0Ao78A",
        "outputId": "c39c4f54-162f-4eea-f2f9-254f8bae9cdd"
      },
      "source": [
        "train_generator = gen.flow_from_directory(\n",
        "  train_path,\n",
        "  target_size=IMAGE_SIZE,\n",
        "  shuffle=True,\n",
        "  batch_size=batch_size,\n",
        ")\n",
        "valid_generator = gen.flow_from_directory(\n",
        "  test_path,\n",
        "  target_size=IMAGE_SIZE,\n",
        "  shuffle=True,\n",
        "  batch_size=batch_size,\n",
        ")"
      ],
      "execution_count": 11,
      "outputs": [
        {
          "output_type": "stream",
          "text": [
            "Found 2139 images belonging to 5 classes.\n",
            "Found 923 images belonging to 5 classes.\n"
          ],
          "name": "stdout"
        }
      ]
    },
    {
      "cell_type": "code",
      "metadata": {
        "colab": {
          "base_uri": "https://localhost:8080/"
        },
        "id": "UxFy3VqCpZBC",
        "outputId": "6eb30c18-989a-45ac-9049-6156f087e60a"
      },
      "source": [
        "r = model.fit_generator(\n",
        "  train_generator,\n",
        "  validation_data=valid_generator,\n",
        "  epochs=epochs,\n",
        "  steps_per_epoch=len(image_files_train) // batch_size,\n",
        "  validation_steps=len(image_files_test) // batch_size,\n",
        ")"
      ],
      "execution_count": 12,
      "outputs": [
        {
          "output_type": "stream",
          "text": [
            "/usr/local/lib/python3.7/dist-packages/tensorflow/python/keras/engine/training.py:1844: UserWarning: `Model.fit_generator` is deprecated and will be removed in a future version. Please use `Model.fit`, which supports generators.\n",
            "  warnings.warn('`Model.fit_generator` is deprecated and '\n"
          ],
          "name": "stderr"
        },
        {
          "output_type": "stream",
          "text": [
            "Epoch 1/10\n"
          ],
          "name": "stdout"
        },
        {
          "output_type": "stream",
          "text": [
            "/usr/local/lib/python3.7/dist-packages/PIL/Image.py:932: UserWarning: Palette images with Transparency expressed in bytes should be converted to RGBA images\n",
            "  \"Palette images with Transparency expressed in bytes should be \"\n"
          ],
          "name": "stderr"
        },
        {
          "output_type": "stream",
          "text": [
            "4/4 [==============================] - 595s 153s/step - loss: 18.6920 - accuracy: 0.2268 - val_loss: 9.2951 - val_accuracy: 0.4050\n",
            "Epoch 2/10\n",
            "4/4 [==============================] - 453s 129s/step - loss: 10.0042 - accuracy: 0.4363 - val_loss: 6.5931 - val_accuracy: 0.5850\n",
            "Epoch 3/10\n",
            "4/4 [==============================] - 339s 100s/step - loss: 6.2316 - accuracy: 0.6267 - val_loss: 5.8460 - val_accuracy: 0.6450\n",
            "Epoch 4/10\n",
            "4/4 [==============================] - 239s 65s/step - loss: 5.6216 - accuracy: 0.6667 - val_loss: 5.2285 - val_accuracy: 0.7500\n",
            "Epoch 5/10\n",
            "4/4 [==============================] - 177s 49s/step - loss: 4.2607 - accuracy: 0.7193 - val_loss: 6.0164 - val_accuracy: 0.7300\n",
            "Epoch 6/10\n",
            "4/4 [==============================] - 152s 39s/step - loss: 5.0518 - accuracy: 0.7053 - val_loss: 4.0861 - val_accuracy: 0.7600\n",
            "Epoch 7/10\n",
            "4/4 [==============================] - 113s 30s/step - loss: 4.0208 - accuracy: 0.7677 - val_loss: 4.8013 - val_accuracy: 0.7350\n",
            "Epoch 8/10\n",
            "4/4 [==============================] - 100s 27s/step - loss: 3.9205 - accuracy: 0.7643 - val_loss: 2.9070 - val_accuracy: 0.7950\n",
            "Epoch 9/10\n",
            "4/4 [==============================] - 77s 20s/step - loss: 2.3191 - accuracy: 0.8297 - val_loss: 2.4348 - val_accuracy: 0.8200\n",
            "Epoch 10/10\n",
            "4/4 [==============================] - 66s 17s/step - loss: 2.1457 - accuracy: 0.8057 - val_loss: 2.5855 - val_accuracy: 0.8250\n"
          ],
          "name": "stdout"
        }
      ]
    },
    {
      "cell_type": "code",
      "metadata": {
        "colab": {
          "base_uri": "https://localhost:8080/"
        },
        "id": "6UxLEJjeoi49",
        "outputId": "5a9efe61-7725-4fea-97e3-b44a84ac989c"
      },
      "source": [
        "STEP_SIZE_TEST=valid_generator.n//valid_generator.batch_size\n",
        "valid_generator.reset()\n",
        "pred=model.predict_generator(valid_generator,\n",
        "steps=STEP_SIZE_TEST,\n",
        "verbose=1)\n",
        "predicted_class_indices_test=np.argmax(pred,axis=1)"
      ],
      "execution_count": 13,
      "outputs": [
        {
          "output_type": "stream",
          "text": [
            "/usr/local/lib/python3.7/dist-packages/tensorflow/python/keras/engine/training.py:1905: UserWarning: `Model.predict_generator` is deprecated and will be removed in a future version. Please use `Model.predict`, which supports generators.\n",
            "  warnings.warn('`Model.predict_generator` is deprecated and '\n",
            "/usr/local/lib/python3.7/dist-packages/PIL/Image.py:932: UserWarning: Palette images with Transparency expressed in bytes should be converted to RGBA images\n",
            "  \"Palette images with Transparency expressed in bytes should be \"\n"
          ],
          "name": "stderr"
        },
        {
          "output_type": "stream",
          "text": [
            "9/9 [==============================] - 36s 4s/step\n"
          ],
          "name": "stdout"
        }
      ]
    },
    {
      "cell_type": "code",
      "metadata": {
        "colab": {
          "base_uri": "https://localhost:8080/"
        },
        "id": "aKe8DUEwoi7V",
        "outputId": "37df2467-9ae9-4673-fd28-b2930f573d1b"
      },
      "source": [
        "STEP_SIZE_Train=train_generator.n//train_generator.batch_size\n",
        "train_generator.reset()\n",
        "pred2=model.predict_generator(train_generator,\n",
        "steps=STEP_SIZE_Train,\n",
        "verbose=1)\n",
        "predicted_class_indices_train=np.argmax(pred2,axis=1)"
      ],
      "execution_count": 14,
      "outputs": [
        {
          "output_type": "stream",
          "text": [
            "/usr/local/lib/python3.7/dist-packages/tensorflow/python/keras/engine/training.py:1905: UserWarning: `Model.predict_generator` is deprecated and will be removed in a future version. Please use `Model.predict`, which supports generators.\n",
            "  warnings.warn('`Model.predict_generator` is deprecated and '\n",
            "/usr/local/lib/python3.7/dist-packages/PIL/Image.py:932: UserWarning: Palette images with Transparency expressed in bytes should be converted to RGBA images\n",
            "  \"Palette images with Transparency expressed in bytes should be \"\n"
          ],
          "name": "stderr"
        },
        {
          "output_type": "stream",
          "text": [
            "21/21 [==============================] - 181s 9s/step\n"
          ],
          "name": "stdout"
        }
      ]
    },
    {
      "cell_type": "code",
      "metadata": {
        "id": "oO2yV46ioi96"
      },
      "source": [
        "def get_confusion_matrix(data_path, N):\n",
        "  # we need to see the data in the same order\n",
        "  # for both predictions and targets\n",
        "  print(\"Generating confusion matrix\", N)\n",
        "  predictions = []\n",
        "  targets = []\n",
        "  i = 0\n",
        "  for x, y in gen.flow_from_directory(data_path, target_size=IMAGE_SIZE, shuffle=False, batch_size=batch_size * 2):\n",
        "    i += 1\n",
        "    if i % 50 == 0:\n",
        "      print(i)\n",
        "    p = model.predict(x)\n",
        "    p = np.argmax(p, axis=1)\n",
        "    y = np.argmax(y, axis=1)\n",
        "    predictions = np.concatenate((predictions, p))\n",
        "    targets = np.concatenate((targets, y))\n",
        "    if len(targets) >= N:\n",
        "      break\n",
        "\n",
        "  cm = confusion_matrix(targets, predictions)\n",
        "  return cm"
      ],
      "execution_count": 15,
      "outputs": []
    },
    {
      "cell_type": "code",
      "metadata": {
        "colab": {
          "base_uri": "https://localhost:8080/"
        },
        "id": "bkzAuexmp7qy",
        "outputId": "7346923d-c559-45ba-9038-0e1db3e71c43"
      },
      "source": [
        "print(train_generator.class_indices) # pour le train\n",
        "print(valid_generator.class_indices) # pour le test"
      ],
      "execution_count": 16,
      "outputs": [
        {
          "output_type": "stream",
          "text": [
            "{'Daisy': 0, 'Harmonie': 1, 'Tiny Kong': 2, 'Waluigi': 3, 'Yoshi': 4}\n",
            "{'Daisy': 0, 'Harmonie': 1, 'Tiny Kong': 2, 'Waluigi': 3, 'Yoshi': 4}\n"
          ],
          "name": "stdout"
        }
      ]
    },
    {
      "cell_type": "code",
      "metadata": {
        "colab": {
          "base_uri": "https://localhost:8080/",
          "height": 705
        },
        "id": "n-qIufrEp7tW",
        "outputId": "2705ea9d-ffd2-4923-bafd-6eaf297fdea3"
      },
      "source": [
        "import seaborn as sns\n",
        "import numpy as np\n",
        "train_cm = get_confusion_matrix(train_path, len(image_files_train))\n",
        "#print(train_cm)\n",
        "print('Matrice de confusion pour le train')\n",
        "plt.figure(figsize = (20,10))\n",
        "sns.set(font_scale=1.4)\n",
        "sns.heatmap(train_cm, annot=True, annot_kws={\"size\": 10}, cmap='Greens')\n"
      ],
      "execution_count": 17,
      "outputs": [
        {
          "output_type": "stream",
          "text": [
            "Generating confusion matrix 461\n",
            "Found 2139 images belonging to 5 classes.\n"
          ],
          "name": "stdout"
        },
        {
          "output_type": "stream",
          "text": [
            "/usr/local/lib/python3.7/dist-packages/PIL/Image.py:932: UserWarning: Palette images with Transparency expressed in bytes should be converted to RGBA images\n",
            "  \"Palette images with Transparency expressed in bytes should be \"\n"
          ],
          "name": "stderr"
        },
        {
          "output_type": "stream",
          "text": [
            "Matrice de confusion pour le train\n"
          ],
          "name": "stdout"
        },
        {
          "output_type": "execute_result",
          "data": {
            "text/plain": [
              "<matplotlib.axes._subplots.AxesSubplot at 0x7f528c8fd910>"
            ]
          },
          "metadata": {
            "tags": []
          },
          "execution_count": 17
        },
        {
          "output_type": "display_data",
          "data": {
            "image/png": "[encoded data removed]",
            "text/plain": [
              "<Figure size 1440x720 with 2 Axes>"
            ]
          },
          "metadata": {
            "tags": [],
            "needs_background": "light"
          }
        }
      ]
    },
    {
      "cell_type": "code",
      "metadata": {
        "colab": {
          "base_uri": "https://localhost:8080/",
          "height": 542
        },
        "id": "OUqZ1qP3p7vf",
        "outputId": "f840be42-5dfe-4117-8e3d-7480b333d3da"
      },
      "source": [
        "test_cm = get_confusion_matrix(test_path, len(image_files_test))\n",
        "#print(test_cm)\n",
        "print('Matrice de confusion pour le test')\n",
        "plt.figure(figsize = (20,7))\n",
        "sns.set(font_scale=1.4)\n",
        "sns.heatmap(test_cm, annot=True, annot_kws={\"size\": 10}, cmap='plasma')"
      ],
      "execution_count": 18,
      "outputs": [
        {
          "output_type": "stream",
          "text": [
            "Generating confusion matrix 205\n",
            "Found 923 images belonging to 5 classes.\n"
          ],
          "name": "stdout"
        },
        {
          "output_type": "stream",
          "text": [
            "/usr/local/lib/python3.7/dist-packages/PIL/Image.py:932: UserWarning: Palette images with Transparency expressed in bytes should be converted to RGBA images\n",
            "  \"Palette images with Transparency expressed in bytes should be \"\n"
          ],
          "name": "stderr"
        },
        {
          "output_type": "stream",
          "text": [
            "Matrice de confusion pour le test\n"
          ],
          "name": "stdout"
        },
        {
          "output_type": "execute_result",
          "data": {
            "text/plain": [
              "<matplotlib.axes._subplots.AxesSubplot at 0x7f5289f998d0>"
            ]
          },
          "metadata": {
            "tags": []
          },
          "execution_count": 18
        },
        {
          "output_type": "display_data",
          "data": {
            "image/png": "[encoded data removed]",
            "text/plain": [
              "<Figure size 1440x504 with 2 Axes>"
            ]
          },
          "metadata": {
            "tags": []
          }
        }
      ]
    },
    {
      "cell_type": "code",
      "metadata": {
        "colab": {
          "base_uri": "https://localhost:8080/",
          "height": 613
        },
        "id": "z5hnJcU_p72U",
        "outputId": "79a1e580-3aca-4776-e652-f37a5bb74401"
      },
      "source": [
        "#print(r.history)\n",
        "plt.plot(r.history['loss'], label='train loss')\n",
        "plt.plot(r.history['val_loss'], label='val loss')\n",
        "plt.title('Training and validation loss')\n",
        "plt.xlabel('epochs')\n",
        "plt.ylabel('Loss')\n",
        "plt.legend()\n",
        "plt.show()\n",
        "\n",
        "# accuracies\n",
        "plt.plot(r.history['accuracy'], label='train accuracy')\n",
        "plt.plot(r.history['val_accuracy'], label='val accuracy')\n",
        "plt.title('Training and validation accuracy')\n",
        "plt.xlabel('epochs')\n",
        "plt.ylabel('Accuracy')\n",
        "plt.legend()\n",
        "plt.show()"
      ],
      "execution_count": 19,
      "outputs": [
        {
          "output_type": "display_data",
          "data": {
            "image/png": "[encoded data removed]",
            "text/plain": [
              "<Figure size 432x288 with 1 Axes>"
            ]
          },
          "metadata": {
            "tags": []
          }
        },
        {
          "output_type": "display_data",
          "data": {
            "image/png": "[encoded data removed]",
            "text/plain": [
              "<Figure size 432x288 with 1 Axes>"
            ]
          },
          "metadata": {
            "tags": []
          }
        }
      ]
    },
    {
      "cell_type": "code",
      "metadata": {
        "colab": {
          "base_uri": "https://localhost:8080/"
        },
        "id": "SRf73hxop75Y",
        "outputId": "35485412-4b09-4374-ff5b-c1e88c544812"
      },
      "source": [
        "score_train = model.evaluate_generator(train_generator, len(image_files_train) // batch_size)\n",
        "print(f'Train results - Loss: {score_train[0]} - Accuracy: {score_train[1]}')\n",
        "score_test = model.evaluate_generator(valid_generator, len(image_files_test) // batch_size)\n",
        "print(f'Test results - Loss: {score_test[0]} - Accuracy: {score_test[1]}')"
      ],
      "execution_count": 20,
      "outputs": [
        {
          "output_type": "stream",
          "text": [
            "/usr/local/lib/python3.7/dist-packages/tensorflow/python/keras/engine/training.py:1877: UserWarning: `Model.evaluate_generator` is deprecated and will be removed in a future version. Please use `Model.evaluate`, which supports generators.\n",
            "  warnings.warn('`Model.evaluate_generator` is deprecated and '\n"
          ],
          "name": "stderr"
        },
        {
          "output_type": "stream",
          "text": [
            "Train results - Loss: 2.646646499633789 - Accuracy: 0.800000011920929\n"
          ],
          "name": "stdout"
        },
        {
          "output_type": "stream",
          "text": [
            "/usr/local/lib/python3.7/dist-packages/PIL/Image.py:932: UserWarning: Palette images with Transparency expressed in bytes should be converted to RGBA images\n",
            "  \"Palette images with Transparency expressed in bytes should be \"\n"
          ],
          "name": "stderr"
        },
        {
          "output_type": "stream",
          "text": [
            "Test results - Loss: 2.955756902694702 - Accuracy: 0.8149999976158142\n"
          ],
          "name": "stdout"
        }
      ]
    }
  ]
}