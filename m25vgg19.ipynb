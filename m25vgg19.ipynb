{
  "nbformat": 4,
  "nbformat_minor": 0,
  "metadata": {
    "accelerator": "GPU",
    "colab": {
      "name": "m25vgg19.ipynb",
      "provenance": [],
      "collapsed_sections": []
    },
    "kernelspec": {
      "display_name": "Python 3",
      "language": "python",
      "name": "python3"
    },
    "language_info": {
      "codemirror_mode": {
        "name": "ipython",
        "version": 3
      },
      "file_extension": ".py",
      "mimetype": "text/x-python",
      "name": "python",
      "nbconvert_exporter": "python",
      "pygments_lexer": "ipython3",
      "version": "3.8.5"
    }
  },
  "cells": [
    {
      "cell_type": "code",
      "metadata": {
        "colab": {
          "base_uri": "https://localhost:8080/"
        },
        "id": "LjOX2SqO35Jo",
        "outputId": "478c00ac-6ca2-4c6f-83f2-25396273793c"
      },
      "source": [
        "from google.colab import drive                  \n",
        "drive.mount('/content/drive')"
      ],
      "execution_count": 1,
      "outputs": [
        {
          "output_type": "stream",
          "text": [
            "Mounted at /content/drive\n"
          ],
          "name": "stdout"
        }
      ]
    },
    {
      "cell_type": "code",
      "metadata": {
        "id": "Bbz42WLI3_3e"
      },
      "source": [
        "from keras.layers import Input, Lambda, Dense, Flatten\n",
        "from keras.models import Model\n",
        "from keras.applications.vgg19 import VGG19\n",
        "from keras.applications.vgg19 import preprocess_input\n",
        "from keras.preprocessing import image\n",
        "from keras.preprocessing.image import ImageDataGenerator\n",
        "import numpy as np\n",
        "from sklearn.metrics import confusion_matrix\n",
        "import matplotlib.pyplot as plt\n",
        "%matplotlib inline\n",
        "from glob import glob"
      ],
      "execution_count": 2,
      "outputs": []
    },
    {
      "cell_type": "code",
      "metadata": {
        "colab": {
          "base_uri": "https://localhost:8080/"
        },
        "id": "50VFHHyR4Lqe",
        "outputId": "d4ce21f3-39a3-4394-9943-cf36be3395fa"
      },
      "source": [
        "IMAGE_SIZE = [150, 150] \n",
        "\n",
        "epochs = 10\n",
        "batch_size = 100\n",
        "\n",
        "train_path = '/content/drive/MyDrive/JV/train'\n",
        "test_path = '/content/drive/MyDrive/JV/test'\n",
        "\n",
        "image_files_train = glob(train_path + '/*/*.jp*g')\n",
        "image_files_test = glob(test_path + '/*/*.jp*g')\n",
        "\n",
        "\n",
        "folders = glob(train_path + '/*')\n",
        "\n",
        "print(len(image_files_train))\n",
        "print(len(image_files_test))"
      ],
      "execution_count": 3,
      "outputs": [
        {
          "output_type": "stream",
          "text": [
            "468\n",
            "198\n"
          ],
          "name": "stdout"
        }
      ]
    },
    {
      "cell_type": "code",
      "metadata": {
        "colab": {
          "base_uri": "https://localhost:8080/"
        },
        "id": "81C1CsWv4Ygd",
        "outputId": "3cf03e54-ac73-44bc-a1d7-94f3e391397d"
      },
      "source": [
        "vgg=VGG19(include_top=False,weights='imagenet',input_shape=(150,150,3))\n",
        "for layer in vgg.layers:\n",
        "    layer.trainable =False\n",
        "x=Flatten()(vgg.output)\n",
        "prediction=Dense(len(folders),activation='softmax')(x)\n",
        "model=Model(inputs=vgg.input,outputs=prediction)\n",
        "model.summary()"
      ],
      "execution_count": 4,
      "outputs": [
        {
          "output_type": "stream",
          "text": [
            "Downloading data from https://storage.googleapis.com/tensorflow/keras-applications/vgg19/vgg19_weights_tf_dim_ordering_tf_kernels_notop.h5\n",
            "80142336/80134624 [==============================] - 1s 0us/step\n",
            "80150528/80134624 [==============================] - 1s 0us/step\n",
            "Model: \"model\"\n",
            "_________________________________________________________________\n",
            "Layer (type)                 Output Shape              Param #   \n",
            "=================================================================\n",
            "input_1 (InputLayer)         [(None, 150, 150, 3)]     0         \n",
            "_________________________________________________________________\n",
            "block1_conv1 (Conv2D)        (None, 150, 150, 64)      1792      \n",
            "_________________________________________________________________\n",
            "block1_conv2 (Conv2D)        (None, 150, 150, 64)      36928     \n",
            "_________________________________________________________________\n",
            "block1_pool (MaxPooling2D)   (None, 75, 75, 64)        0         \n",
            "_________________________________________________________________\n",
            "block2_conv1 (Conv2D)        (None, 75, 75, 128)       73856     \n",
            "_________________________________________________________________\n",
            "block2_conv2 (Conv2D)        (None, 75, 75, 128)       147584    \n",
            "_________________________________________________________________\n",
            "block2_pool (MaxPooling2D)   (None, 37, 37, 128)       0         \n",
            "_________________________________________________________________\n",
            "block3_conv1 (Conv2D)        (None, 37, 37, 256)       295168    \n",
            "_________________________________________________________________\n",
            "block3_conv2 (Conv2D)        (None, 37, 37, 256)       590080    \n",
            "_________________________________________________________________\n",
            "block3_conv3 (Conv2D)        (None, 37, 37, 256)       590080    \n",
            "_________________________________________________________________\n",
            "block3_conv4 (Conv2D)        (None, 37, 37, 256)       590080    \n",
            "_________________________________________________________________\n",
            "block3_pool (MaxPooling2D)   (None, 18, 18, 256)       0         \n",
            "_________________________________________________________________\n",
            "block4_conv1 (Conv2D)        (None, 18, 18, 512)       1180160   \n",
            "_________________________________________________________________\n",
            "block4_conv2 (Conv2D)        (None, 18, 18, 512)       2359808   \n",
            "_________________________________________________________________\n",
            "block4_conv3 (Conv2D)        (None, 18, 18, 512)       2359808   \n",
            "_________________________________________________________________\n",
            "block4_conv4 (Conv2D)        (None, 18, 18, 512)       2359808   \n",
            "_________________________________________________________________\n",
            "block4_pool (MaxPooling2D)   (None, 9, 9, 512)         0         \n",
            "_________________________________________________________________\n",
            "block5_conv1 (Conv2D)        (None, 9, 9, 512)         2359808   \n",
            "_________________________________________________________________\n",
            "block5_conv2 (Conv2D)        (None, 9, 9, 512)         2359808   \n",
            "_________________________________________________________________\n",
            "block5_conv3 (Conv2D)        (None, 9, 9, 512)         2359808   \n",
            "_________________________________________________________________\n",
            "block5_conv4 (Conv2D)        (None, 9, 9, 512)         2359808   \n",
            "_________________________________________________________________\n",
            "block5_pool (MaxPooling2D)   (None, 4, 4, 512)         0         \n",
            "_________________________________________________________________\n",
            "flatten (Flatten)            (None, 8192)              0         \n",
            "_________________________________________________________________\n",
            "dense (Dense)                (None, 5)                 40965     \n",
            "=================================================================\n",
            "Total params: 20,065,349\n",
            "Trainable params: 40,965\n",
            "Non-trainable params: 20,024,384\n",
            "_________________________________________________________________\n"
          ],
          "name": "stdout"
        }
      ]
    },
    {
      "cell_type": "code",
      "metadata": {
        "id": "5yUnJLJ94gyq",
        "colab": {
          "base_uri": "https://localhost:8080/"
        },
        "outputId": "190ae756-f352-4206-b1e6-5a4f492a8b28"
      },
      "source": [
        "import keras\n",
        "model.compile(optimizer=keras.optimizers.Adam(lr=1e-3), loss='categorical_crossentropy',metrics='accuracy')"
      ],
      "execution_count": 5,
      "outputs": [
        {
          "output_type": "stream",
          "text": [
            "/usr/local/lib/python3.7/dist-packages/tensorflow/python/keras/optimizer_v2/optimizer_v2.py:375: UserWarning: The `lr` argument is deprecated, use `learning_rate` instead.\n",
            "  \"The `lr` argument is deprecated, use `learning_rate` instead.\")\n"
          ],
          "name": "stderr"
        }
      ]
    },
    {
      "cell_type": "code",
      "metadata": {
        "id": "7DofXNNq4g1l"
      },
      "source": [
        "gen=ImageDataGenerator(rotation_range=20,width_shift_range=0.1,height_shift_range=0.1,shear_range=0.1,zoom_range=0.2,horizontal_flip=True,vertical_flip=True,preprocessing_function=preprocess_input)"
      ],
      "execution_count": 6,
      "outputs": []
    },
    {
      "cell_type": "code",
      "metadata": {
        "colab": {
          "base_uri": "https://localhost:8080/"
        },
        "id": "RLUD5oMP5fHv",
        "outputId": "6523666f-9346-4624-dfdb-4ccb57ec1c71"
      },
      "source": [
        "test_gen=gen.flow_from_directory(test_path,target_size=IMAGE_SIZE)"
      ],
      "execution_count": 7,
      "outputs": [
        {
          "output_type": "stream",
          "text": [
            "Found 1797 images belonging to 5 classes.\n"
          ],
          "name": "stdout"
        }
      ]
    },
    {
      "cell_type": "code",
      "metadata": {
        "colab": {
          "base_uri": "https://localhost:8080/"
        },
        "id": "g5lALGol5fLe",
        "outputId": "f85a63c6-bdab-4da6-8ad8-bc1ef1652267"
      },
      "source": [
        "labels = [None] * len(test_gen.class_indices)\n",
        "print(labels)\n",
        "for k, v in test_gen.class_indices.items():\n",
        "  labels[v] = k\n",
        "print(labels[0])"
      ],
      "execution_count": 8,
      "outputs": [
        {
          "output_type": "stream",
          "text": [
            "[None, None, None, None, None]\n",
            "Daisy\n"
          ],
          "name": "stdout"
        }
      ]
    },
    {
      "cell_type": "code",
      "metadata": {
        "colab": {
          "base_uri": "https://localhost:8080/",
          "height": 334
        },
        "id": "muMApsyS5oAr",
        "outputId": "ec79b3fd-52cb-436c-b2e4-6c0800e514eb"
      },
      "source": [
        "for x, y in test_gen:\n",
        "  print(\"min:\", x[0].min(), \"max:\", x[0].max())\n",
        "  print(y[0])\n",
        "  plt.title(labels[np.argmax(y[0])])\n",
        "  plt.imshow(x[0])\n",
        "  plt.show()\n",
        "  break"
      ],
      "execution_count": 9,
      "outputs": [
        {
          "output_type": "stream",
          "text": [
            "Clipping input data to the valid range for imshow with RGB data ([0..1] for floats or [0..255] for integers).\n"
          ],
          "name": "stderr"
        },
        {
          "output_type": "stream",
          "text": [
            "min: -99.60692 max: 144.35165\n",
            "[0. 0. 0. 0. 1.]\n"
          ],
          "name": "stdout"
        },
        {
          "output_type": "display_data",
          "data": {
            "image/png": "[encoded data removed]",
            "text/plain": [
              "<Figure size 432x288 with 1 Axes>"
            ]
          },
          "metadata": {
            "tags": [],
            "needs_background": "light"
          }
        }
      ]
    },
    {
      "cell_type": "code",
      "metadata": {
        "colab": {
          "base_uri": "https://localhost:8080/"
        },
        "id": "cnzYwZ9H5oR6",
        "outputId": "65ad20f2-4fd7-4874-c43d-22cf850df242"
      },
      "source": [
        "train_generator = gen.flow_from_directory(\n",
        "  train_path,\n",
        "  target_size=IMAGE_SIZE,\n",
        "  shuffle=True,\n",
        "  batch_size=batch_size,\n",
        ")\n",
        "valid_generator = gen.flow_from_directory(\n",
        "  test_path,\n",
        "  target_size=IMAGE_SIZE,\n",
        "  shuffle=True,\n",
        "  batch_size=batch_size,\n",
        ")"
      ],
      "execution_count": 10,
      "outputs": [
        {
          "output_type": "stream",
          "text": [
            "Found 4187 images belonging to 5 classes.\n",
            "Found 1797 images belonging to 5 classes.\n"
          ],
          "name": "stdout"
        }
      ]
    },
    {
      "cell_type": "code",
      "metadata": {
        "colab": {
          "base_uri": "https://localhost:8080/"
        },
        "id": "ZQpADKxX5oWl",
        "outputId": "0ce67bf5-ff03-494a-a13e-a0d4a12b6b9c"
      },
      "source": [
        "r = model.fit_generator(\n",
        "  train_generator,\n",
        "  validation_data=valid_generator,\n",
        "  epochs=epochs,\n",
        "  steps_per_epoch=len(image_files_train) // batch_size,\n",
        "  validation_steps=len(image_files_test) // batch_size,\n",
        ")"
      ],
      "execution_count": 11,
      "outputs": [
        {
          "output_type": "stream",
          "text": [
            "/usr/local/lib/python3.7/dist-packages/keras/engine/training.py:1915: UserWarning: `Model.fit_generator` is deprecated and will be removed in a future version. Please use `Model.fit`, which supports generators.\n",
            "  warnings.warn('`Model.fit_generator` is deprecated and '\n"
          ],
          "name": "stderr"
        },
        {
          "output_type": "stream",
          "text": [
            "Epoch 1/10\n",
            "4/4 [==============================] - 282s 61s/step - loss: 16.0649 - accuracy: 0.2147 - val_loss: 8.1290 - val_accuracy: 0.4000\n",
            "Epoch 2/10\n",
            "1/4 [======>.......................] - ETA: 1:47 - loss: 8.2839 - accuracy: 0.3900"
          ],
          "name": "stdout"
        },
        {
          "output_type": "stream",
          "text": [
            "/usr/local/lib/python3.7/dist-packages/PIL/Image.py:960: UserWarning: Palette images with Transparency expressed in bytes should be converted to RGBA images\n",
            "  \"Palette images with Transparency expressed in bytes should be \"\n"
          ],
          "name": "stderr"
        },
        {
          "output_type": "stream",
          "text": [
            "4/4 [==============================] - 227s 64s/step - loss: 7.3692 - accuracy: 0.4743 - val_loss: 6.5360 - val_accuracy: 0.6000\n",
            "Epoch 3/10\n",
            "4/4 [==============================] - 203s 57s/step - loss: 5.9248 - accuracy: 0.6113 - val_loss: 3.0051 - val_accuracy: 0.7600\n",
            "Epoch 4/10\n",
            "4/4 [==============================] - 183s 50s/step - loss: 4.1961 - accuracy: 0.6830 - val_loss: 2.9365 - val_accuracy: 0.8000\n",
            "Epoch 5/10\n",
            "4/4 [==============================] - 157s 44s/step - loss: 3.1310 - accuracy: 0.7740 - val_loss: 3.7078 - val_accuracy: 0.7700\n",
            "Epoch 6/10\n",
            "4/4 [==============================] - 137s 37s/step - loss: 4.6610 - accuracy: 0.7223 - val_loss: 3.4870 - val_accuracy: 0.8000\n",
            "Epoch 7/10\n",
            "4/4 [==============================] - 124s 35s/step - loss: 3.3540 - accuracy: 0.7926 - val_loss: 3.5588 - val_accuracy: 0.7400\n",
            "Epoch 8/10\n",
            "4/4 [==============================] - 119s 33s/step - loss: 3.4340 - accuracy: 0.7720 - val_loss: 3.0699 - val_accuracy: 0.8300\n",
            "Epoch 9/10\n",
            "4/4 [==============================] - 94s 26s/step - loss: 2.7529 - accuracy: 0.7713 - val_loss: 1.2455 - val_accuracy: 0.8800\n",
            "Epoch 10/10\n",
            "4/4 [==============================] - 92s 24s/step - loss: 2.5095 - accuracy: 0.8370 - val_loss: 3.0234 - val_accuracy: 0.8500\n"
          ],
          "name": "stdout"
        }
      ]
    },
    {
      "cell_type": "code",
      "metadata": {
        "colab": {
          "base_uri": "https://localhost:8080/"
        },
        "id": "WRkc2HRI5oaG",
        "outputId": "70723cdc-275f-443d-fc81-1225d970ffcf"
      },
      "source": [
        "STEP_SIZE_TEST=valid_generator.n//valid_generator.batch_size\n",
        "valid_generator.reset()\n",
        "pred=model.predict_generator(valid_generator,\n",
        "steps=STEP_SIZE_TEST,\n",
        "verbose=1)\n",
        "predicted_class_indices_test=np.argmax(pred,axis=1)"
      ],
      "execution_count": 12,
      "outputs": [
        {
          "output_type": "stream",
          "text": [
            "/usr/local/lib/python3.7/dist-packages/keras/engine/training.py:1976: UserWarning: `Model.predict_generator` is deprecated and will be removed in a future version. Please use `Model.predict`, which supports generators.\n",
            "  warnings.warn('`Model.predict_generator` is deprecated and '\n"
          ],
          "name": "stderr"
        },
        {
          "output_type": "stream",
          "text": [
            "17/17 [==============================] - 238s 15s/step\n"
          ],
          "name": "stdout"
        }
      ]
    },
    {
      "cell_type": "code",
      "metadata": {
        "colab": {
          "base_uri": "https://localhost:8080/"
        },
        "id": "vp2ZUKPT5odf",
        "outputId": "7f322aa9-c7e9-4e7c-a6fb-9ac78effb0bf"
      },
      "source": [
        "STEP_SIZE_Train=train_generator.n//train_generator.batch_size\n",
        "train_generator.reset()\n",
        "pred2=model.predict_generator(train_generator,\n",
        "steps=STEP_SIZE_Train,\n",
        "verbose=1)\n",
        "predicted_class_indices_train=np.argmax(pred2,axis=1)"
      ],
      "execution_count": 13,
      "outputs": [
        {
          "output_type": "stream",
          "text": [
            "/usr/local/lib/python3.7/dist-packages/keras/engine/training.py:1976: UserWarning: `Model.predict_generator` is deprecated and will be removed in a future version. Please use `Model.predict`, which supports generators.\n",
            "  warnings.warn('`Model.predict_generator` is deprecated and '\n"
          ],
          "name": "stderr"
        },
        {
          "output_type": "stream",
          "text": [
            "\r 1/41 [..............................] - ETA: 1:43"
          ],
          "name": "stdout"
        },
        {
          "output_type": "stream",
          "text": [
            "/usr/local/lib/python3.7/dist-packages/PIL/Image.py:960: UserWarning: Palette images with Transparency expressed in bytes should be converted to RGBA images\n",
            "  \"Palette images with Transparency expressed in bytes should be \"\n"
          ],
          "name": "stderr"
        },
        {
          "output_type": "stream",
          "text": [
            "41/41 [==============================] - 538s 13s/step\n"
          ],
          "name": "stdout"
        }
      ]
    },
    {
      "cell_type": "code",
      "metadata": {
        "id": "OyMSjV3U5ooH"
      },
      "source": [
        "def get_confusion_matrix(data_path, N):\n",
        "  \n",
        "  print(\"Generating confusion matrix\", N)\n",
        "  predictions = []\n",
        "  targets = []\n",
        "  i = 0\n",
        "  for x, y in gen.flow_from_directory(data_path, target_size=IMAGE_SIZE, shuffle=False, batch_size=batch_size * 2):\n",
        "    i += 1\n",
        "    if i % 50 == 0:\n",
        "      print(i)\n",
        "    p = model.predict(x)\n",
        "    p = np.argmax(p, axis=1)\n",
        "    y = np.argmax(y, axis=1)\n",
        "    predictions = np.concatenate((predictions, p))\n",
        "    targets = np.concatenate((targets, y))\n",
        "    if len(targets) >= N:\n",
        "      break\n",
        "\n",
        "  cm = confusion_matrix(targets, predictions)\n",
        "  return cm"
      ],
      "execution_count": 14,
      "outputs": []
    },
    {
      "cell_type": "code",
      "metadata": {
        "colab": {
          "base_uri": "https://localhost:8080/"
        },
        "id": "oT7Xvwgw6Ras",
        "outputId": "408b4d18-c04b-4b33-b8fc-8c0e635e599f"
      },
      "source": [
        "print(train_generator.class_indices) # pour le train\n",
        "print(valid_generator.class_indices) # pour le test"
      ],
      "execution_count": 15,
      "outputs": [
        {
          "output_type": "stream",
          "text": [
            "{'Daisy': 0, 'Harmonie': 1, 'Tiny Kong': 2, 'Waluigi': 3, 'Yoshi': 4}\n",
            "{'Daisy': 0, 'Harmonie': 1, 'Tiny Kong': 2, 'Waluigi': 3, 'Yoshi': 4}\n"
          ],
          "name": "stdout"
        }
      ]
    },
    {
      "cell_type": "code",
      "metadata": {
        "colab": {
          "base_uri": "https://localhost:8080/",
          "height": 670
        },
        "id": "0AMPxr9G6Re-",
        "outputId": "de6fd653-71b2-48b6-a14c-454628c8ef18"
      },
      "source": [
        "import seaborn as sns\n",
        "import numpy as np\n",
        "train_cm = get_confusion_matrix(train_path, len(image_files_train))\n",
        "#print(train_cm)\n",
        "print('Matrice de confusion pour le train')\n",
        "plt.figure(figsize = (20,10))\n",
        "sns.set(font_scale=1.4)\n",
        "sns.heatmap(train_cm, annot=True, annot_kws={\"size\": 10}, cmap='spring')"
      ],
      "execution_count": 16,
      "outputs": [
        {
          "output_type": "stream",
          "text": [
            "Generating confusion matrix 468\n",
            "Found 4187 images belonging to 5 classes.\n",
            "Matrice de confusion pour le train\n"
          ],
          "name": "stdout"
        },
        {
          "output_type": "execute_result",
          "data": {
            "text/plain": [
              "<matplotlib.axes._subplots.AxesSubplot at 0x7f2ed1f96550>"
            ]
          },
          "metadata": {
            "tags": []
          },
          "execution_count": 16
        },
        {
          "output_type": "display_data",
          "data": {
            "image/png": "[encoded data removed]",
            "text/plain": [
              "<Figure size 1440x720 with 2 Axes>"
            ]
          },
          "metadata": {
            "tags": [],
            "needs_background": "light"
          }
        }
      ]
    },
    {
      "cell_type": "code",
      "metadata": {
        "colab": {
          "base_uri": "https://localhost:8080/",
          "height": 670
        },
        "id": "VC4qxame6f_7",
        "outputId": "40ecbf77-ea32-49d9-df41-01fe13198a14"
      },
      "source": [
        "test_cm = get_confusion_matrix(test_path, len(image_files_test))\n",
        "#print(test_cm)\n",
        "print('Matrice de confusion pour le test')\n",
        "plt.figure(figsize = (20,10))\n",
        "sns.set(font_scale=1.4)\n",
        "sns.heatmap(test_cm, annot=True, annot_kws={\"size\": 10}, cmap='Wistia')"
      ],
      "execution_count": 17,
      "outputs": [
        {
          "output_type": "stream",
          "text": [
            "Generating confusion matrix 198\n",
            "Found 1797 images belonging to 5 classes.\n",
            "Matrice de confusion pour le test\n"
          ],
          "name": "stdout"
        },
        {
          "output_type": "execute_result",
          "data": {
            "text/plain": [
              "<matplotlib.axes._subplots.AxesSubplot at 0x7f2ed1e63f50>"
            ]
          },
          "metadata": {
            "tags": []
          },
          "execution_count": 17
        },
        {
          "output_type": "display_data",
          "data": {
            "image/png": "[encoded data removed]",
            "text/plain": [
              "<Figure size 1440x720 with 2 Axes>"
            ]
          },
          "metadata": {
            "tags": []
          }
        }
      ]
    },
    {
      "cell_type": "code",
      "metadata": {
        "colab": {
          "base_uri": "https://localhost:8080/",
          "height": 613
        },
        "id": "hif2tkwR6s8B",
        "outputId": "78beb156-baf2-4e78-eb4e-8058ffd2ed61"
      },
      "source": [
        "#print(r.history)\n",
        "plt.plot(r.history['loss'], label='train loss')\n",
        "plt.plot(r.history['val_loss'], label='val loss')\n",
        "plt.title('Training and validation loss')\n",
        "plt.xlabel('epochs')\n",
        "plt.ylabel('Loss')\n",
        "plt.legend()\n",
        "plt.show()\n",
        "\n",
        "# accuracies\n",
        "plt.plot(r.history['accuracy'], label='train accuracy')\n",
        "plt.plot(r.history['val_accuracy'], label='val accuracy')\n",
        "plt.title('Training and validation accuracy')\n",
        "plt.xlabel('epochs')\n",
        "plt.ylabel('Accuracy')\n",
        "plt.legend()\n",
        "plt.show()"
      ],
      "execution_count": 18,
      "outputs": [
        {
          "output_type": "display_data",
          "data": {
            "image/png": "[encoded data removed]",
            "text/plain": [
              "<Figure size 432x288 with 1 Axes>"
            ]
          },
          "metadata": {
            "tags": []
          }
        },
        {
          "output_type": "display_data",
          "data": {
            "image/png": "[encoded data removed]",
            "text/plain": [
              "<Figure size 432x288 with 1 Axes>"
            ]
          },
          "metadata": {
            "tags": []
          }
        }
      ]
    },
    {
      "cell_type": "code",
      "metadata": {
        "colab": {
          "base_uri": "https://localhost:8080/"
        },
        "id": "0Uggt4DW6t5T",
        "outputId": "e54eed74-574b-4b18-ebff-67c93b61a4b5"
      },
      "source": [
        "score_train = model.evaluate_generator(train_generator, len(image_files_train) // batch_size)\n",
        "print(f'Train results - Loss: {score_train[0]} - Accuracy: {score_train[1]}')\n",
        "score_test = model.evaluate_generator(valid_generator, len(image_files_test) // batch_size)\n",
        "print(f'Test results - Loss: {score_test[0]} - Accuracy: {score_test[1]}')"
      ],
      "execution_count": 19,
      "outputs": [
        {
          "output_type": "stream",
          "text": [
            "/usr/local/lib/python3.7/dist-packages/keras/engine/training.py:1948: UserWarning: `Model.evaluate_generator` is deprecated and will be removed in a future version. Please use `Model.evaluate`, which supports generators.\n",
            "  warnings.warn('`Model.evaluate_generator` is deprecated and '\n",
            "/usr/local/lib/python3.7/dist-packages/PIL/Image.py:960: UserWarning: Palette images with Transparency expressed in bytes should be converted to RGBA images\n",
            "  \"Palette images with Transparency expressed in bytes should be \"\n"
          ],
          "name": "stderr"
        },
        {
          "output_type": "stream",
          "text": [
            "Train results - Loss: 2.4733898639678955 - Accuracy: 0.8050000071525574\n",
            "Test results - Loss: 2.1550371646881104 - Accuracy: 0.8700000047683716\n"
          ],
          "name": "stdout"
        }
      ]
    }
  ]
}