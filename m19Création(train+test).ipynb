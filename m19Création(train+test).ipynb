{
  "nbformat": 4,
  "nbformat_minor": 0,
  "metadata": {
    "colab": {
      "name": "m19Création(train+test).ipynb",
      "provenance": [],
      "collapsed_sections": []
    },
    "kernelspec": {
      "name": "python3",
      "display_name": "Python 3"
    },
    "accelerator": "GPU"
  },
  "cells": [
    {
      "cell_type": "code",
      "metadata": {
        "colab": {
          "base_uri": "https://localhost:8080/"
        },
        "id": "CY_EEVTOYMhN",
        "outputId": "f8bc82e1-9162-4357-bb84-1ad902f76f2f"
      },
      "source": [
        "from google.colab import drive\n",
        "drive.mount('/content/drive')"
      ],
      "execution_count": null,
      "outputs": [
        {
          "output_type": "stream",
          "text": [
            "Mounted at /content/drive\n"
          ],
          "name": "stdout"
        }
      ]
    },
    {
      "cell_type": "code",
      "metadata": {
        "colab": {
          "base_uri": "https://localhost:8080/"
        },
        "id": "Kfd7Meq-X7T8",
        "outputId": "aa3ac87e-1881-491b-8920-ebeff2ccbae1"
      },
      "source": [
        "from fastai.vision import *\n",
        "from fastai import *\n",
        "\n",
        "import os\n",
        "import numpy as np\n",
        "import shutil\n",
        "import random\n",
        "\n",
        "\n",
        "\n",
        "# # Creating Train / Val / Test folders (One time use)\n",
        "\n",
        "root_dir = '/content/drive/MyDrive/JV'\n",
        "classes_dir = ['/Yoshi','/Daisy','/Harmonie','/Tiny Kong','/Waluigi']\n",
        "\n",
        "val_ratio = 0.0\n",
        "test_ratio = 0.30\n",
        "\n",
        "for cls in classes_dir:\n",
        "  os.makedirs(root_dir + '/train'+ cls)\n",
        "  os.makedirs(root_dir + '/val'+ cls)\n",
        "  os.makedirs(root_dir + '/test'+ cls)\n",
        "  print(cls)\n",
        "  src = root_dir + cls # Folder to copy images from\n",
        "  allFileNames = os.listdir(src) # Creating partitions of the data after shuffeling\n",
        "  np.random.shuffle(allFileNames)\n",
        "  for i in allFileNames:\n",
        "    train_FileNames, test_FileNames = np.split(np.array(allFileNames),[int(len(allFileNames)* (1 - test_ratio))])\n",
        "    train_FileNames = [src+'/'+ name for name in train_FileNames.tolist()]\n",
        "    #val_FileNames = [src+'/' + name for name in val_FileNames.tolist()]\n",
        "    test_FileNames = [src+'/' + name for name in test_FileNames.tolist()]\n",
        "\n",
        "\n",
        "\n",
        "  print('Total images: ', len(allFileNames))\n",
        "  print('Training: ', len(train_FileNames))\n",
        "\n",
        "  #print('Validation: ', len(val_FileNames))\n",
        "  print('Testing: ', len(test_FileNames))\n",
        "\n",
        "  # Copy-pasting images\n",
        "\n",
        "  for name in train_FileNames:\n",
        "    shutil.copy(name, root_dir +'/train' + cls)\n",
        "\n",
        "  #for name in val_FileNames:\n",
        "  # shutil.copy(name, root_dir +'/val' + cls)\n",
        "\n",
        "  for name in test_FileNames:\n",
        "    shutil.copy(name, root_dir +'/test' + cls)"
      ],
      "execution_count": null,
      "outputs": [
        {
          "output_type": "stream",
          "text": [
            "/Yoshi\n",
            "Total images:  614\n",
            "Training:  429\n",
            "Testing:  185\n",
            "/Daisy\n",
            "Total images:  633\n",
            "Training:  443\n",
            "Testing:  190\n",
            "/Harmonie\n",
            "Total images:  533\n",
            "Training:  373\n",
            "Testing:  160\n",
            "/Tiny Kong\n",
            "Total images:  416\n",
            "Training:  291\n",
            "Testing:  125\n",
            "/Waluigi\n",
            "Total images:  499\n",
            "Training:  349\n",
            "Testing:  150\n"
          ],
          "name": "stdout"
        }
      ]
    }
  ]
}